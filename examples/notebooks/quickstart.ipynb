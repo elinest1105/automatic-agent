{
 "cells": [
  {
   "cell_type": "markdown",
   "metadata": {},
   "source": [
    "# Quickstart Tutorial: Basic Custom Chatbot using Atomic Agents\n",
    "\n",
    "This quickstart tutorial demonstrates how to create a custom chatbot with a unique personality using the Atomic Agents library. The chatbot will respond to user inputs in rhyming verse.\n",
    "\n",
    "[![Open In Colab](https://colab.research.google.com/assets/colab-badge.svg)](https://colab.research.google.com/github/KennyVaneetvelde/atomic_agents/blob/main/examples/notebooks/quickstart.ipynb#)\n"
   ]
  },
  {
   "cell_type": "markdown",
   "metadata": {},
   "source": [
    "# Prerequisites\n",
    "\n",
    "Before proceeding with this notebook, it is highly recommended to read up on the basics of the following libraries:\n",
    "\n",
    "- **Pydantic**: A data validation and settings management library using Python type annotations. You can find more information and documentation at [Pydantic GitHub](https://github.com/pydantic/pydantic).\n",
    "- **Instructor**: A Python library that simplifies working with structured outputs from large language models (LLMs). It provides a user-friendly API to manage validation, retries, and streaming responses. More details can be found at [Instructor GitHub](https://github.com/jxnl/instructor).\n",
    "\n",
    "Understanding these libraries will help you make the most of this library.\n"
   ]
  },
  {
   "cell_type": "markdown",
   "metadata": {},
   "source": [
    "## Step 1: Install Necessary Packages\n",
    "\n",
    "First, we need to install the required packages. Run the following command to install `atomic-agents`, `openai`, and `instructor` libraries."
   ]
  },
  {
   "cell_type": "code",
   "execution_count": 1,
   "metadata": {},
   "outputs": [
    {
     "name": "stdout",
     "output_type": "stream",
     "text": [
      "Requirement already satisfied: atomic-agents in /home/w3bwizar/Development/AI/atomic_agents/.venv/lib/python3.10/site-packages (0.1.45)\n",
      "Requirement already satisfied: openai in /home/w3bwizar/Development/AI/atomic_agents/.venv/lib/python3.10/site-packages (1.35.12)\n",
      "Requirement already satisfied: instructor in /home/w3bwizar/Development/AI/atomic_agents/.venv/lib/python3.10/site-packages (1.3.4)\n",
      "Requirement already satisfied: jsonref in /home/w3bwizar/Development/AI/atomic_agents/.venv/lib/python3.10/site-packages (1.1.0)\n",
      "Requirement already satisfied: aiohttp in /home/w3bwizar/Development/AI/atomic_agents/.venv/lib/python3.10/site-packages (from atomic-agents) (3.9.5)\n",
      "Requirement already satisfied: beautifulsoup4 in /home/w3bwizar/Development/AI/atomic_agents/.venv/lib/python3.10/site-packages (from atomic-agents) (4.12.3)\n",
      "Requirement already satisfied: huggingface-hub in /home/w3bwizar/Development/AI/atomic_agents/.venv/lib/python3.10/site-packages (from atomic-agents) (0.23.4)\n",
      "Requirement already satisfied: scikit-learn in /home/w3bwizar/Development/AI/atomic_agents/.venv/lib/python3.10/site-packages (from atomic-agents) (1.5.1)\n",
      "Requirement already satisfied: sympy in /home/w3bwizar/Development/AI/atomic_agents/.venv/lib/python3.10/site-packages (from atomic-agents) (1.13.0)\n",
      "Requirement already satisfied: anyio<5,>=3.5.0 in /home/w3bwizar/Development/AI/atomic_agents/.venv/lib/python3.10/site-packages (from openai) (4.4.0)\n",
      "Requirement already satisfied: distro<2,>=1.7.0 in /home/w3bwizar/Development/AI/atomic_agents/.venv/lib/python3.10/site-packages (from openai) (1.9.0)\n",
      "Requirement already satisfied: httpx<1,>=0.23.0 in /home/w3bwizar/Development/AI/atomic_agents/.venv/lib/python3.10/site-packages (from openai) (0.27.0)\n",
      "Requirement already satisfied: pydantic<3,>=1.9.0 in /home/w3bwizar/Development/AI/atomic_agents/.venv/lib/python3.10/site-packages (from openai) (2.8.2)\n",
      "Requirement already satisfied: sniffio in /home/w3bwizar/Development/AI/atomic_agents/.venv/lib/python3.10/site-packages (from openai) (1.3.1)\n",
      "Requirement already satisfied: tqdm>4 in /home/w3bwizar/Development/AI/atomic_agents/.venv/lib/python3.10/site-packages (from openai) (4.66.4)\n",
      "Requirement already satisfied: typing-extensions<5,>=4.7 in /home/w3bwizar/Development/AI/atomic_agents/.venv/lib/python3.10/site-packages (from openai) (4.12.2)\n",
      "Requirement already satisfied: docstring-parser<0.17,>=0.16 in /home/w3bwizar/Development/AI/atomic_agents/.venv/lib/python3.10/site-packages (from instructor) (0.16)\n",
      "Requirement already satisfied: jiter<0.5.0,>=0.4.1 in /home/w3bwizar/Development/AI/atomic_agents/.venv/lib/python3.10/site-packages (from instructor) (0.4.2)\n",
      "Requirement already satisfied: pydantic-core<3.0.0,>=2.18.0 in /home/w3bwizar/Development/AI/atomic_agents/.venv/lib/python3.10/site-packages (from instructor) (2.20.1)\n",
      "Requirement already satisfied: rich<14.0.0,>=13.7.0 in /home/w3bwizar/Development/AI/atomic_agents/.venv/lib/python3.10/site-packages (from instructor) (13.7.1)\n",
      "Requirement already satisfied: tenacity<9.0.0,>=8.2.3 in /home/w3bwizar/Development/AI/atomic_agents/.venv/lib/python3.10/site-packages (from instructor) (8.5.0)\n",
      "Requirement already satisfied: typer<1.0.0,>=0.9.0 in /home/w3bwizar/Development/AI/atomic_agents/.venv/lib/python3.10/site-packages (from instructor) (0.12.3)\n",
      "Requirement already satisfied: aiosignal>=1.1.2 in /home/w3bwizar/Development/AI/atomic_agents/.venv/lib/python3.10/site-packages (from aiohttp->atomic-agents) (1.3.1)\n",
      "Requirement already satisfied: attrs>=17.3.0 in /home/w3bwizar/Development/AI/atomic_agents/.venv/lib/python3.10/site-packages (from aiohttp->atomic-agents) (23.2.0)\n",
      "Requirement already satisfied: frozenlist>=1.1.1 in /home/w3bwizar/Development/AI/atomic_agents/.venv/lib/python3.10/site-packages (from aiohttp->atomic-agents) (1.4.1)\n",
      "Requirement already satisfied: multidict<7.0,>=4.5 in /home/w3bwizar/Development/AI/atomic_agents/.venv/lib/python3.10/site-packages (from aiohttp->atomic-agents) (6.0.5)\n",
      "Requirement already satisfied: yarl<2.0,>=1.0 in /home/w3bwizar/Development/AI/atomic_agents/.venv/lib/python3.10/site-packages (from aiohttp->atomic-agents) (1.9.4)\n",
      "Requirement already satisfied: async-timeout<5.0,>=4.0 in /home/w3bwizar/Development/AI/atomic_agents/.venv/lib/python3.10/site-packages (from aiohttp->atomic-agents) (4.0.3)\n",
      "Requirement already satisfied: idna>=2.8 in /home/w3bwizar/Development/AI/atomic_agents/.venv/lib/python3.10/site-packages (from anyio<5,>=3.5.0->openai) (3.7)\n",
      "Requirement already satisfied: exceptiongroup>=1.0.2 in /home/w3bwizar/Development/AI/atomic_agents/.venv/lib/python3.10/site-packages (from anyio<5,>=3.5.0->openai) (1.2.1)\n",
      "Requirement already satisfied: certifi in /home/w3bwizar/Development/AI/atomic_agents/.venv/lib/python3.10/site-packages (from httpx<1,>=0.23.0->openai) (2024.7.4)\n",
      "Requirement already satisfied: httpcore==1.* in /home/w3bwizar/Development/AI/atomic_agents/.venv/lib/python3.10/site-packages (from httpx<1,>=0.23.0->openai) (1.0.5)\n",
      "Requirement already satisfied: h11<0.15,>=0.13 in /home/w3bwizar/Development/AI/atomic_agents/.venv/lib/python3.10/site-packages (from httpcore==1.*->httpx<1,>=0.23.0->openai) (0.14.0)\n",
      "Requirement already satisfied: annotated-types>=0.4.0 in /home/w3bwizar/Development/AI/atomic_agents/.venv/lib/python3.10/site-packages (from pydantic<3,>=1.9.0->openai) (0.7.0)\n",
      "Requirement already satisfied: markdown-it-py>=2.2.0 in /home/w3bwizar/Development/AI/atomic_agents/.venv/lib/python3.10/site-packages (from rich<14.0.0,>=13.7.0->instructor) (3.0.0)\n",
      "Requirement already satisfied: pygments<3.0.0,>=2.13.0 in /home/w3bwizar/Development/AI/atomic_agents/.venv/lib/python3.10/site-packages (from rich<14.0.0,>=13.7.0->instructor) (2.18.0)\n",
      "Requirement already satisfied: click>=8.0.0 in /home/w3bwizar/Development/AI/atomic_agents/.venv/lib/python3.10/site-packages (from typer<1.0.0,>=0.9.0->instructor) (8.1.7)\n",
      "Requirement already satisfied: shellingham>=1.3.0 in /home/w3bwizar/Development/AI/atomic_agents/.venv/lib/python3.10/site-packages (from typer<1.0.0,>=0.9.0->instructor) (1.5.4)\n",
      "Requirement already satisfied: soupsieve>1.2 in /home/w3bwizar/Development/AI/atomic_agents/.venv/lib/python3.10/site-packages (from beautifulsoup4->atomic-agents) (2.5)\n",
      "Requirement already satisfied: filelock in /home/w3bwizar/Development/AI/atomic_agents/.venv/lib/python3.10/site-packages (from huggingface-hub->atomic-agents) (3.15.4)\n",
      "Requirement already satisfied: fsspec>=2023.5.0 in /home/w3bwizar/Development/AI/atomic_agents/.venv/lib/python3.10/site-packages (from huggingface-hub->atomic-agents) (2024.6.1)\n",
      "Requirement already satisfied: packaging>=20.9 in /home/w3bwizar/Development/AI/atomic_agents/.venv/lib/python3.10/site-packages (from huggingface-hub->atomic-agents) (24.1)\n",
      "Requirement already satisfied: pyyaml>=5.1 in /home/w3bwizar/Development/AI/atomic_agents/.venv/lib/python3.10/site-packages (from huggingface-hub->atomic-agents) (6.0.1)\n",
      "Requirement already satisfied: requests in /home/w3bwizar/Development/AI/atomic_agents/.venv/lib/python3.10/site-packages (from huggingface-hub->atomic-agents) (2.32.3)\n",
      "Requirement already satisfied: numpy>=1.19.5 in /home/w3bwizar/Development/AI/atomic_agents/.venv/lib/python3.10/site-packages (from scikit-learn->atomic-agents) (1.26.4)\n",
      "Requirement already satisfied: scipy>=1.6.0 in /home/w3bwizar/Development/AI/atomic_agents/.venv/lib/python3.10/site-packages (from scikit-learn->atomic-agents) (1.14.0)\n",
      "Requirement already satisfied: joblib>=1.2.0 in /home/w3bwizar/Development/AI/atomic_agents/.venv/lib/python3.10/site-packages (from scikit-learn->atomic-agents) (1.4.2)\n",
      "Requirement already satisfied: threadpoolctl>=3.1.0 in /home/w3bwizar/Development/AI/atomic_agents/.venv/lib/python3.10/site-packages (from scikit-learn->atomic-agents) (3.5.0)\n",
      "Requirement already satisfied: mpmath<1.4,>=1.1.0 in /home/w3bwizar/Development/AI/atomic_agents/.venv/lib/python3.10/site-packages (from sympy->atomic-agents) (1.3.0)\n",
      "Requirement already satisfied: mdurl~=0.1 in /home/w3bwizar/Development/AI/atomic_agents/.venv/lib/python3.10/site-packages (from markdown-it-py>=2.2.0->rich<14.0.0,>=13.7.0->instructor) (0.1.2)\n",
      "Requirement already satisfied: charset-normalizer<4,>=2 in /home/w3bwizar/Development/AI/atomic_agents/.venv/lib/python3.10/site-packages (from requests->huggingface-hub->atomic-agents) (3.3.2)\n",
      "Requirement already satisfied: urllib3<3,>=1.21.1 in /home/w3bwizar/Development/AI/atomic_agents/.venv/lib/python3.10/site-packages (from requests->huggingface-hub->atomic-agents) (2.2.2)\n",
      "Note: you may need to restart the kernel to use updated packages.\n"
     ]
    }
   ],
   "source": [
    "# Install necessary packages\n",
    "%pip install atomic-agents openai instructor jsonref"
   ]
  },
  {
   "cell_type": "markdown",
   "metadata": {},
   "source": [
    "## Step 2: Import Libraries\n",
    "\n",
    "We will import the necessary libraries for creating the chatbot. Each library serves a specific purpose:\n",
    "- `AgentMemory`: Manages the chat history.\n",
    "- `BaseAgent`: The base class to create a custom chatbot. Can be extended for additional functionality if needed.\n",
    "- `SystemPromptGenerator` and `SystemPromptInfo`: To define and generate system prompts."
   ]
  },
  {
   "cell_type": "code",
   "execution_count": 2,
   "metadata": {},
   "outputs": [],
   "source": [
    "import os\n",
    "import instructor\n",
    "import openai\n",
    "from atomic_agents.lib.components.agent_memory import AgentMemory\n",
    "from atomic_agents.agents.base_agent import BaseAgent, BaseAgentConfig\n",
    "from atomic_agents.lib.components.system_prompt_generator import SystemPromptGenerator, SystemPromptInfo"
   ]
  },
  {
   "cell_type": "markdown",
   "metadata": {},
   "source": [
    "## Step 3: Define System Prompt Information\n",
    "\n",
    "We will define the system prompt information including background, steps, and output instructions. This helps the chatbot understand how to respond to user inputs.\n",
    "In this example, we will define a system prompt that asks the chatbot to respond to user inputs in rhyming verse.\n",
    "\n",
    "The structuring of the system prompts in this library is loosely inspired by Patterns in the [Fabric library](https://github.com/danielmiessler/fabric/tree/main/patterns)."
   ]
  },
  {
   "cell_type": "code",
   "execution_count": 3,
   "metadata": {},
   "outputs": [
    {
     "data": {
      "text/html": [
       "<pre style=\"white-space:pre;overflow-x:auto;line-height:normal;font-family:Menlo,'DejaVu Sans Mono',consolas,'Courier New',monospace\">┏━━━━━━━━━━━━━━━━━━━━━━━━━━━━━━━━━━━━━━━━━━━━━━━━━━━━━━━━━━━━━━━━━━━━━━━━━━━━━━━━━━━━━━━━━━━━━━━━━━━━━━━━━━━━━━━━━┓\n",
       "┃                                              <span style=\"font-weight: bold\">IDENTITY and PURPOSE</span>                                               ┃\n",
       "┗━━━━━━━━━━━━━━━━━━━━━━━━━━━━━━━━━━━━━━━━━━━━━━━━━━━━━━━━━━━━━━━━━━━━━━━━━━━━━━━━━━━━━━━━━━━━━━━━━━━━━━━━━━━━━━━━━┛\n",
       "\n",
       "<span style=\"color: #808000; text-decoration-color: #808000; font-weight: bold\"> • </span>This assistant is a general-purpose AI designed to be helpful and friendly.                                     \n",
       "\n",
       "┏━━━━━━━━━━━━━━━━━━━━━━━━━━━━━━━━━━━━━━━━━━━━━━━━━━━━━━━━━━━━━━━━━━━━━━━━━━━━━━━━━━━━━━━━━━━━━━━━━━━━━━━━━━━━━━━━━┓\n",
       "┃                                            <span style=\"font-weight: bold\">INTERNAL ASSISTANT STEPS</span>                                             ┃\n",
       "┗━━━━━━━━━━━━━━━━━━━━━━━━━━━━━━━━━━━━━━━━━━━━━━━━━━━━━━━━━━━━━━━━━━━━━━━━━━━━━━━━━━━━━━━━━━━━━━━━━━━━━━━━━━━━━━━━━┛\n",
       "\n",
       "<span style=\"color: #808000; text-decoration-color: #808000; font-weight: bold\"> • </span>Understand the user's input and provide a relevant response.                                                    \n",
       "<span style=\"color: #808000; text-decoration-color: #808000; font-weight: bold\"> • </span>Respond to the user.                                                                                            \n",
       "\n",
       "┏━━━━━━━━━━━━━━━━━━━━━━━━━━━━━━━━━━━━━━━━━━━━━━━━━━━━━━━━━━━━━━━━━━━━━━━━━━━━━━━━━━━━━━━━━━━━━━━━━━━━━━━━━━━━━━━━━┓\n",
       "┃                                               <span style=\"font-weight: bold\">OUTPUT INSTRUCTIONS</span>                                               ┃\n",
       "┗━━━━━━━━━━━━━━━━━━━━━━━━━━━━━━━━━━━━━━━━━━━━━━━━━━━━━━━━━━━━━━━━━━━━━━━━━━━━━━━━━━━━━━━━━━━━━━━━━━━━━━━━━━━━━━━━━┛\n",
       "\n",
       "<span style=\"color: #808000; text-decoration-color: #808000; font-weight: bold\"> • </span>Provide helpful and relevant information to assist the user.                                                    \n",
       "<span style=\"color: #808000; text-decoration-color: #808000; font-weight: bold\"> • </span>Be friendly and respectful in all interactions.                                                                 \n",
       "<span style=\"color: #808000; text-decoration-color: #808000; font-weight: bold\"> • </span>Always answer in rhyming verse.                                                                                 \n",
       "<span style=\"color: #808000; text-decoration-color: #808000; font-weight: bold\"> • </span>Always respond using the proper JSON schema.                                                                    \n",
       "<span style=\"color: #808000; text-decoration-color: #808000; font-weight: bold\"> • </span>Always use the available additional information and context to enhance the response.                            \n",
       "</pre>\n"
      ],
      "text/plain": [
       "┏━━━━━━━━━━━━━━━━━━━━━━━━━━━━━━━━━━━━━━━━━━━━━━━━━━━━━━━━━━━━━━━━━━━━━━━━━━━━━━━━━━━━━━━━━━━━━━━━━━━━━━━━━━━━━━━━━┓\n",
       "┃                                              \u001b[1mIDENTITY and PURPOSE\u001b[0m                                               ┃\n",
       "┗━━━━━━━━━━━━━━━━━━━━━━━━━━━━━━━━━━━━━━━━━━━━━━━━━━━━━━━━━━━━━━━━━━━━━━━━━━━━━━━━━━━━━━━━━━━━━━━━━━━━━━━━━━━━━━━━━┛\n",
       "\n",
       "\u001b[1;33m • \u001b[0mThis assistant is a general-purpose AI designed to be helpful and friendly.                                     \n",
       "\n",
       "┏━━━━━━━━━━━━━━━━━━━━━━━━━━━━━━━━━━━━━━━━━━━━━━━━━━━━━━━━━━━━━━━━━━━━━━━━━━━━━━━━━━━━━━━━━━━━━━━━━━━━━━━━━━━━━━━━━┓\n",
       "┃                                            \u001b[1mINTERNAL ASSISTANT STEPS\u001b[0m                                             ┃\n",
       "┗━━━━━━━━━━━━━━━━━━━━━━━━━━━━━━━━━━━━━━━━━━━━━━━━━━━━━━━━━━━━━━━━━━━━━━━━━━━━━━━━━━━━━━━━━━━━━━━━━━━━━━━━━━━━━━━━━┛\n",
       "\n",
       "\u001b[1;33m • \u001b[0mUnderstand the user's input and provide a relevant response.                                                    \n",
       "\u001b[1;33m • \u001b[0mRespond to the user.                                                                                            \n",
       "\n",
       "┏━━━━━━━━━━━━━━━━━━━━━━━━━━━━━━━━━━━━━━━━━━━━━━━━━━━━━━━━━━━━━━━━━━━━━━━━━━━━━━━━━━━━━━━━━━━━━━━━━━━━━━━━━━━━━━━━━┓\n",
       "┃                                               \u001b[1mOUTPUT INSTRUCTIONS\u001b[0m                                               ┃\n",
       "┗━━━━━━━━━━━━━━━━━━━━━━━━━━━━━━━━━━━━━━━━━━━━━━━━━━━━━━━━━━━━━━━━━━━━━━━━━━━━━━━━━━━━━━━━━━━━━━━━━━━━━━━━━━━━━━━━━┛\n",
       "\n",
       "\u001b[1;33m • \u001b[0mProvide helpful and relevant information to assist the user.                                                    \n",
       "\u001b[1;33m • \u001b[0mBe friendly and respectful in all interactions.                                                                 \n",
       "\u001b[1;33m • \u001b[0mAlways answer in rhyming verse.                                                                                 \n",
       "\u001b[1;33m • \u001b[0mAlways respond using the proper JSON schema.                                                                    \n",
       "\u001b[1;33m • \u001b[0mAlways use the available additional information and context to enhance the response.                            \n"
      ]
     },
     "execution_count": 3,
     "metadata": {},
     "output_type": "execute_result"
    }
   ],
   "source": [
    "system_prompt = SystemPromptInfo(\n",
    "    background=[\n",
    "        'This assistant is a general-purpose AI designed to be helpful and friendly.',\n",
    "    ],\n",
    "    steps=[\n",
    "        'Understand the user\\'s input and provide a relevant response.',\n",
    "        'Respond to the user.'\n",
    "    ],\n",
    "    output_instructions=[\n",
    "        'Provide helpful and relevant information to assist the user.',\n",
    "        'Be friendly and respectful in all interactions.',\n",
    "        'Always answer in rhyming verse.'\n",
    "    ]\n",
    ")\n",
    "system_prompt_generator = SystemPromptGenerator(system_prompt)\n",
    "\n",
    "from rich.markdown import Markdown\n",
    "Markdown(system_prompt_generator.generate_prompt())"
   ]
  },
  {
   "cell_type": "markdown",
   "metadata": {},
   "source": [
    "## Step 4: Initialize Chat Memory\n",
    "\n",
    "We will initialize the chat memory to store conversation history and load an initial greeting message."
   ]
  },
  {
   "cell_type": "code",
   "execution_count": 4,
   "metadata": {},
   "outputs": [],
   "source": [
    "memory = AgentMemory()\n",
    "initial_memory = [\n",
    "    {'role': 'assistant', 'content': 'How do you do? What can I do for you? Tell me, pray, what is your need today?'}\n",
    "]\n",
    "memory.load(initial_memory)"
   ]
  },
  {
   "cell_type": "markdown",
   "metadata": {},
   "source": [
    "## Step 5: Set Up API Key and Create Chat Agent\n",
    "\n",
    "To use the **OpenAI** API, you need to set up your API key. You can either enter it directly in the code or set it as an environment variable. Additionally, you can choose other clients such as **Anthropic**, **Mistral**, etc. For a full list, check out the [Instructor library docs](https://github.com/jxnl/instructor)."
   ]
  },
  {
   "cell_type": "code",
   "execution_count": 5,
   "metadata": {},
   "outputs": [],
   "source": [
    "##################################################################\n",
    "# ENTER YOUR API KEY BELOW, OR SET IT AS AN ENVIRONMENT VARIABLE #\n",
    "##################################################################\n",
    "API_KEY = ''\n",
    "if not API_KEY:\n",
    "    # Get the environment variable\n",
    "    API_KEY = os.getenv('OPENAI_API_KEY')\n",
    "\n",
    "if not API_KEY:\n",
    "    raise ValueError('API key is not set. Please set the API key as a static variable or in the environment variable OPENAI_API_KEY.')\n",
    "\n",
    "client = instructor.from_openai(openai.OpenAI(api_key=API_KEY))\n",
    "\n",
    "agent = BaseAgent(\n",
    "    config=BaseAgentConfig(\n",
    "        client=client,\n",
    "        system_prompt_generator=system_prompt_generator,\n",
    "        model='gpt-3.5-turbo',\n",
    "        memory=memory,\n",
    "    )\n",
    ")"
   ]
  },
  {
   "cell_type": "markdown",
   "metadata": {},
   "source": [
    "## Step 6: Main Chat Loop\n",
    "\n",
    "We will create a main chat loop for testing the chat agent. This loop will allow you to interact with the chatbot in real-time.\n",
    "To exit the loop, type `/exit` or `/quit`."
   ]
  },
  {
   "cell_type": "code",
   "execution_count": 6,
   "metadata": {},
   "outputs": [
    {
     "name": "stdout",
     "output_type": "stream",
     "text": [
      "Agent: How do you do? What can I do for you? Tell me, pray, what is your need today?\n",
      "Exiting chat...\n"
     ]
    }
   ],
   "source": [
    "print(f'Agent: {initial_memory[0][\"content\"]}')\n",
    "\n",
    "while True:\n",
    "    user_input = input('You: ')\n",
    "    if user_input.lower() in ['/exit', '/quit']:\n",
    "        print('Exiting chat...')\n",
    "        break\n",
    "    \n",
    "    response = agent.run(agent.input_schema(chat_message=user_input))\n",
    "    print(f'Agent: {response.chat_message}')"
   ]
  }
 ],
 "metadata": {
  "kernelspec": {
   "display_name": "Python 3",
   "language": "python",
   "name": "python3"
  },
  "language_info": {
   "codemirror_mode": {
    "name": "ipython",
    "version": 3
   },
   "file_extension": ".py",
   "mimetype": "text/x-python",
   "name": "python",
   "nbconvert_exporter": "python",
   "pygments_lexer": "ipython3",
   "version": "3.12.3"
  }
 },
 "nbformat": 4,
 "nbformat_minor": 4
}
