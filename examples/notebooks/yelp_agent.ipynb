{
 "cells": [
  {
   "cell_type": "markdown",
   "metadata": {},
   "source": [
    "# Yelp Restaurant Finder Agent\n",
    "\n",
    "This notebook demonstrates how to create a restaurant finder agent using the Atomic Agents library. The agent will interact with users to gather their preferences and search for restaurants using the Yelp API.\n",
    "\n",
    "[![Open In Colab](https://colab.research.google.com/assets/colab-badge.svg)](https://colab.research.google.com/github/KennyVaneetvelde/atomic_agents/blob/main/examples/notebooks/yelp_agent.ipynb)\n"
   ]
  },
  {
   "cell_type": "markdown",
   "metadata": {},
   "source": [
    "## Prerequisites\n",
    "\n",
    "Before proceeding with this notebook, it is highly recommended to read up on the basics of the following libraries:\n",
    "\n",
    "- **Pydantic**: A data validation and settings management library using Python type annotations. You can find more information and documentation at [Pydantic GitHub](https://github.com/pydantic/pydantic).\n",
    "- **Instructor**: A Python library that simplifies working with structured outputs from large language models (LLMs). It provides a user-friendly API to manage validation, retries, and streaming responses. More details can be found at [Instructor GitHub](https://github.com/jxnl/instructor).\n",
    "\n",
    "Understanding these libraries will help you make the most of this library.\n"
   ]
  },
  {
   "cell_type": "markdown",
   "metadata": {},
   "source": [
    "## Step 1: Install Necessary Packages\n",
    "\n",
    "First, we need to install the required packages. Run the following command to install `atomic-agents`, `openai`, and `instructor` libraries."
   ]
  },
  {
   "cell_type": "code",
   "execution_count": 1,
   "metadata": {},
   "outputs": [
    {
     "name": "stdout",
     "output_type": "stream",
     "text": [
      "Requirement already satisfied: atomic-agents in /home/w3bwizar/Development/AI/atomic_agents/.venv/lib/python3.10/site-packages (0.1.45)\n",
      "Requirement already satisfied: openai in /home/w3bwizar/Development/AI/atomic_agents/.venv/lib/python3.10/site-packages (1.35.12)\n",
      "Requirement already satisfied: instructor in /home/w3bwizar/Development/AI/atomic_agents/.venv/lib/python3.10/site-packages (1.3.4)\n",
      "Requirement already satisfied: aiohttp in /home/w3bwizar/Development/AI/atomic_agents/.venv/lib/python3.10/site-packages (from atomic-agents) (3.9.5)\n",
      "Requirement already satisfied: beautifulsoup4 in /home/w3bwizar/Development/AI/atomic_agents/.venv/lib/python3.10/site-packages (from atomic-agents) (4.12.3)\n",
      "Requirement already satisfied: huggingface-hub in /home/w3bwizar/Development/AI/atomic_agents/.venv/lib/python3.10/site-packages (from atomic-agents) (0.23.4)\n",
      "Requirement already satisfied: scikit-learn in /home/w3bwizar/Development/AI/atomic_agents/.venv/lib/python3.10/site-packages (from atomic-agents) (1.5.1)\n",
      "Requirement already satisfied: sympy in /home/w3bwizar/Development/AI/atomic_agents/.venv/lib/python3.10/site-packages (from atomic-agents) (1.13.0)\n",
      "Requirement already satisfied: anyio<5,>=3.5.0 in /home/w3bwizar/Development/AI/atomic_agents/.venv/lib/python3.10/site-packages (from openai) (4.4.0)\n",
      "Requirement already satisfied: distro<2,>=1.7.0 in /home/w3bwizar/Development/AI/atomic_agents/.venv/lib/python3.10/site-packages (from openai) (1.9.0)\n",
      "Requirement already satisfied: httpx<1,>=0.23.0 in /home/w3bwizar/Development/AI/atomic_agents/.venv/lib/python3.10/site-packages (from openai) (0.27.0)\n",
      "Requirement already satisfied: pydantic<3,>=1.9.0 in /home/w3bwizar/Development/AI/atomic_agents/.venv/lib/python3.10/site-packages (from openai) (2.8.2)\n",
      "Requirement already satisfied: sniffio in /home/w3bwizar/Development/AI/atomic_agents/.venv/lib/python3.10/site-packages (from openai) (1.3.1)\n",
      "Requirement already satisfied: tqdm>4 in /home/w3bwizar/Development/AI/atomic_agents/.venv/lib/python3.10/site-packages (from openai) (4.66.4)\n",
      "Requirement already satisfied: typing-extensions<5,>=4.7 in /home/w3bwizar/Development/AI/atomic_agents/.venv/lib/python3.10/site-packages (from openai) (4.12.2)\n",
      "Requirement already satisfied: docstring-parser<0.17,>=0.16 in /home/w3bwizar/Development/AI/atomic_agents/.venv/lib/python3.10/site-packages (from instructor) (0.16)\n",
      "Requirement already satisfied: jiter<0.5.0,>=0.4.1 in /home/w3bwizar/Development/AI/atomic_agents/.venv/lib/python3.10/site-packages (from instructor) (0.4.2)\n",
      "Requirement already satisfied: pydantic-core<3.0.0,>=2.18.0 in /home/w3bwizar/Development/AI/atomic_agents/.venv/lib/python3.10/site-packages (from instructor) (2.20.1)\n",
      "Requirement already satisfied: rich<14.0.0,>=13.7.0 in /home/w3bwizar/Development/AI/atomic_agents/.venv/lib/python3.10/site-packages (from instructor) (13.7.1)\n",
      "Requirement already satisfied: tenacity<9.0.0,>=8.2.3 in /home/w3bwizar/Development/AI/atomic_agents/.venv/lib/python3.10/site-packages (from instructor) (8.5.0)\n",
      "Requirement already satisfied: typer<1.0.0,>=0.9.0 in /home/w3bwizar/Development/AI/atomic_agents/.venv/lib/python3.10/site-packages (from instructor) (0.12.3)\n",
      "Requirement already satisfied: aiosignal>=1.1.2 in /home/w3bwizar/Development/AI/atomic_agents/.venv/lib/python3.10/site-packages (from aiohttp->atomic-agents) (1.3.1)\n",
      "Requirement already satisfied: attrs>=17.3.0 in /home/w3bwizar/Development/AI/atomic_agents/.venv/lib/python3.10/site-packages (from aiohttp->atomic-agents) (23.2.0)\n",
      "Requirement already satisfied: frozenlist>=1.1.1 in /home/w3bwizar/Development/AI/atomic_agents/.venv/lib/python3.10/site-packages (from aiohttp->atomic-agents) (1.4.1)\n",
      "Requirement already satisfied: multidict<7.0,>=4.5 in /home/w3bwizar/Development/AI/atomic_agents/.venv/lib/python3.10/site-packages (from aiohttp->atomic-agents) (6.0.5)\n",
      "Requirement already satisfied: yarl<2.0,>=1.0 in /home/w3bwizar/Development/AI/atomic_agents/.venv/lib/python3.10/site-packages (from aiohttp->atomic-agents) (1.9.4)\n",
      "Requirement already satisfied: async-timeout<5.0,>=4.0 in /home/w3bwizar/Development/AI/atomic_agents/.venv/lib/python3.10/site-packages (from aiohttp->atomic-agents) (4.0.3)\n",
      "Requirement already satisfied: idna>=2.8 in /home/w3bwizar/Development/AI/atomic_agents/.venv/lib/python3.10/site-packages (from anyio<5,>=3.5.0->openai) (3.7)\n",
      "Requirement already satisfied: exceptiongroup>=1.0.2 in /home/w3bwizar/Development/AI/atomic_agents/.venv/lib/python3.10/site-packages (from anyio<5,>=3.5.0->openai) (1.2.1)\n",
      "Requirement already satisfied: certifi in /home/w3bwizar/Development/AI/atomic_agents/.venv/lib/python3.10/site-packages (from httpx<1,>=0.23.0->openai) (2024.7.4)\n",
      "Requirement already satisfied: httpcore==1.* in /home/w3bwizar/Development/AI/atomic_agents/.venv/lib/python3.10/site-packages (from httpx<1,>=0.23.0->openai) (1.0.5)\n",
      "Requirement already satisfied: h11<0.15,>=0.13 in /home/w3bwizar/Development/AI/atomic_agents/.venv/lib/python3.10/site-packages (from httpcore==1.*->httpx<1,>=0.23.0->openai) (0.14.0)\n",
      "Requirement already satisfied: annotated-types>=0.4.0 in /home/w3bwizar/Development/AI/atomic_agents/.venv/lib/python3.10/site-packages (from pydantic<3,>=1.9.0->openai) (0.7.0)\n",
      "Requirement already satisfied: markdown-it-py>=2.2.0 in /home/w3bwizar/Development/AI/atomic_agents/.venv/lib/python3.10/site-packages (from rich<14.0.0,>=13.7.0->instructor) (3.0.0)\n",
      "Requirement already satisfied: pygments<3.0.0,>=2.13.0 in /home/w3bwizar/Development/AI/atomic_agents/.venv/lib/python3.10/site-packages (from rich<14.0.0,>=13.7.0->instructor) (2.18.0)\n",
      "Requirement already satisfied: click>=8.0.0 in /home/w3bwizar/Development/AI/atomic_agents/.venv/lib/python3.10/site-packages (from typer<1.0.0,>=0.9.0->instructor) (8.1.7)\n",
      "Requirement already satisfied: shellingham>=1.3.0 in /home/w3bwizar/Development/AI/atomic_agents/.venv/lib/python3.10/site-packages (from typer<1.0.0,>=0.9.0->instructor) (1.5.4)\n",
      "Requirement already satisfied: soupsieve>1.2 in /home/w3bwizar/Development/AI/atomic_agents/.venv/lib/python3.10/site-packages (from beautifulsoup4->atomic-agents) (2.5)\n",
      "Requirement already satisfied: filelock in /home/w3bwizar/Development/AI/atomic_agents/.venv/lib/python3.10/site-packages (from huggingface-hub->atomic-agents) (3.15.4)\n",
      "Requirement already satisfied: fsspec>=2023.5.0 in /home/w3bwizar/Development/AI/atomic_agents/.venv/lib/python3.10/site-packages (from huggingface-hub->atomic-agents) (2024.6.1)\n",
      "Requirement already satisfied: packaging>=20.9 in /home/w3bwizar/Development/AI/atomic_agents/.venv/lib/python3.10/site-packages (from huggingface-hub->atomic-agents) (24.1)\n",
      "Requirement already satisfied: pyyaml>=5.1 in /home/w3bwizar/Development/AI/atomic_agents/.venv/lib/python3.10/site-packages (from huggingface-hub->atomic-agents) (6.0.1)\n",
      "Requirement already satisfied: requests in /home/w3bwizar/Development/AI/atomic_agents/.venv/lib/python3.10/site-packages (from huggingface-hub->atomic-agents) (2.32.3)\n",
      "Requirement already satisfied: numpy>=1.19.5 in /home/w3bwizar/Development/AI/atomic_agents/.venv/lib/python3.10/site-packages (from scikit-learn->atomic-agents) (1.26.4)\n",
      "Requirement already satisfied: scipy>=1.6.0 in /home/w3bwizar/Development/AI/atomic_agents/.venv/lib/python3.10/site-packages (from scikit-learn->atomic-agents) (1.14.0)\n",
      "Requirement already satisfied: joblib>=1.2.0 in /home/w3bwizar/Development/AI/atomic_agents/.venv/lib/python3.10/site-packages (from scikit-learn->atomic-agents) (1.4.2)\n",
      "Requirement already satisfied: threadpoolctl>=3.1.0 in /home/w3bwizar/Development/AI/atomic_agents/.venv/lib/python3.10/site-packages (from scikit-learn->atomic-agents) (3.5.0)\n",
      "Requirement already satisfied: mpmath<1.4,>=1.1.0 in /home/w3bwizar/Development/AI/atomic_agents/.venv/lib/python3.10/site-packages (from sympy->atomic-agents) (1.3.0)\n",
      "Requirement already satisfied: mdurl~=0.1 in /home/w3bwizar/Development/AI/atomic_agents/.venv/lib/python3.10/site-packages (from markdown-it-py>=2.2.0->rich<14.0.0,>=13.7.0->instructor) (0.1.2)\n",
      "Requirement already satisfied: charset-normalizer<4,>=2 in /home/w3bwizar/Development/AI/atomic_agents/.venv/lib/python3.10/site-packages (from requests->huggingface-hub->atomic-agents) (3.3.2)\n",
      "Requirement already satisfied: urllib3<3,>=1.21.1 in /home/w3bwizar/Development/AI/atomic_agents/.venv/lib/python3.10/site-packages (from requests->huggingface-hub->atomic-agents) (2.2.2)\n",
      "Note: you may need to restart the kernel to use updated packages.\n"
     ]
    }
   ],
   "source": [
    "# Install necessary packages\n",
    "%pip install atomic-agents openai instructor"
   ]
  },
  {
   "cell_type": "markdown",
   "metadata": {},
   "source": [
    "## Step 2: Import Libraries\n",
    "\n",
    "We will import the necessary libraries for creating the restaurant finder agent."
   ]
  },
  {
   "cell_type": "code",
   "execution_count": 2,
   "metadata": {},
   "outputs": [],
   "source": [
    "import os\n",
    "import logging\n",
    "from typing import Union\n",
    "from pydantic import BaseModel, Field\n",
    "import instructor\n",
    "import openai\n",
    "from rich.console import Console\n",
    "\n",
    "from atomic_agents.lib.components.agent_memory import AgentMemory\n",
    "from atomic_agents.lib.components.system_prompt_generator import SystemPromptGenerator, SystemPromptInfo\n",
    "from atomic_agents.agents.base_chat_agent import BaseChatAgent, BaseChatAgentOutputSchema, BaseChatAgentConfig\n",
    "from atomic_agents.lib.tools.yelp_restaurant_finder_tool import YelpSearchTool, YelpSearchToolConfig, YelpSearchToolSchema"
   ]
  },
  {
   "cell_type": "markdown",
   "metadata": {},
   "source": [
    "## Step 3: Define System Prompt Information\n",
    "\n",
    "Define the system prompt information including background, steps, and output instructions."
   ]
  },
  {
   "cell_type": "code",
   "execution_count": 3,
   "metadata": {},
   "outputs": [],
   "source": [
    "# Define system prompt information including background, steps, and output instructions\n",
    "system_prompt = SystemPromptInfo(\n",
    "    background=[\n",
    "        'This assistant is a restaurant finder AI designed to help users find the best restaurants based on their preferences by asking clarifying questions.',\n",
    "    ],\n",
    "    steps=[\n",
    "        'Greet the user and introduce yourself as a restaurant finder assistant.',\n",
    "        'Inspect the required Yelp schema and identify the necessary filters.',\n",
    "        'Ask the user questions to gather information for each filter until all required information is clear.',\n",
    "        'Use the chat responses to gather all necessary information from the user.',\n",
    "        'Once all required information is gathered, use the YelpSearchTool schema to search Yelp for restaurants.',\n",
    "    ],\n",
    "    output_instructions=[\n",
    "        'Always use the chosen schema as output',\n",
    "        'Provide helpful and relevant information to assist the user.',\n",
    "        'Be friendly and respectful in all interactions.',\n",
    "        'Ensure that the chat responses are used to ask clarifying questions and gather information, and the Yelp schema is used to perform the actual search.'\n",
    "    ]\n",
    ")"
   ]
  },
  {
   "cell_type": "markdown",
   "metadata": {},
   "source": [
    "## Step 4: Initialize Components\n",
    "\n",
    "Initialize the system prompt generator, chat memory, and console for output."
   ]
  },
  {
   "cell_type": "code",
   "execution_count": 4,
   "metadata": {},
   "outputs": [],
   "source": [
    "# Initialize the system prompt generator with the defined system prompt and dynamic info providers\n",
    "system_prompt_generator = SystemPromptGenerator(system_prompt)\n",
    "\n",
    "# Initialize chat memory to store conversation history\n",
    "memory = AgentMemory()\n",
    "# Define initial memory with a greeting message from the assistant\n",
    "initial_memory = [\n",
    "    {'role': 'assistant', 'content': 'Hello, can I help you find a restaurant?'}\n",
    "]\n",
    "# Load the initial memory into the chat memory\n",
    "memory.load(initial_memory)\n",
    "\n",
    "console = Console()"
   ]
  },
  {
   "cell_type": "markdown",
   "metadata": {},
   "source": [
    "## Step 5: Initialize the Client\n",
    "\n",
    "Initialize the client using the `instructor` library. For all supported clients such as Anthropic & Gemini, refer to the `instructor` library documentation."
   ]
  },
  {
   "cell_type": "code",
   "execution_count": 5,
   "metadata": {},
   "outputs": [],
   "source": [
    "# Initialize the client\n",
    "client = instructor.from_openai(openai.OpenAI())"
   ]
  },
  {
   "cell_type": "markdown",
   "metadata": {},
   "source": [
    "## Step 6: Initialize the YelpSearchTool\n",
    "\n",
    "Set up the YelpSearchTool with the necessary configuration."
   ]
  },
  {
   "cell_type": "code",
   "execution_count": 6,
   "metadata": {},
   "outputs": [
    {
     "ename": "ValidationError",
     "evalue": "1 validation error for YelpSearchToolConfig\napi_key\n  Input should be a valid string [type=string_type, input_value=None, input_type=NoneType]\n    For further information visit https://errors.pydantic.dev/2.8/v/string_type",
     "output_type": "error",
     "traceback": [
      "\u001b[0;31m---------------------------------------------------------------------------\u001b[0m",
      "\u001b[0;31mValidationError\u001b[0m                           Traceback (most recent call last)",
      "Cell \u001b[0;32mIn[6], line 2\u001b[0m\n\u001b[1;32m      1\u001b[0m \u001b[38;5;66;03m# Initialize the YelpSearchTool\u001b[39;00m\n\u001b[0;32m----> 2\u001b[0m yelp_tool \u001b[38;5;241m=\u001b[39m YelpSearchTool(\u001b[43mYelpSearchToolConfig\u001b[49m\u001b[43m(\u001b[49m\u001b[43mapi_key\u001b[49m\u001b[38;5;241;43m=\u001b[39;49m\u001b[43mos\u001b[49m\u001b[38;5;241;43m.\u001b[39;49m\u001b[43mgetenv\u001b[49m\u001b[43m(\u001b[49m\u001b[38;5;124;43m'\u001b[39;49m\u001b[38;5;124;43mYELP_API_KEY\u001b[39;49m\u001b[38;5;124;43m'\u001b[39;49m\u001b[43m)\u001b[49m\u001b[43m,\u001b[49m\u001b[43m \u001b[49m\u001b[43mmax_results\u001b[49m\u001b[38;5;241;43m=\u001b[39;49m\u001b[38;5;241;43m10\u001b[39;49m\u001b[43m)\u001b[49m)\n",
      "File \u001b[0;32m~/Development/AI/atomic_agents/.venv/lib/python3.10/site-packages/pydantic/main.py:193\u001b[0m, in \u001b[0;36mBaseModel.__init__\u001b[0;34m(self, **data)\u001b[0m\n\u001b[1;32m    191\u001b[0m \u001b[38;5;66;03m# `__tracebackhide__` tells pytest and some other tools to omit this function from tracebacks\u001b[39;00m\n\u001b[1;32m    192\u001b[0m __tracebackhide__ \u001b[38;5;241m=\u001b[39m \u001b[38;5;28;01mTrue\u001b[39;00m\n\u001b[0;32m--> 193\u001b[0m \u001b[38;5;28;43mself\u001b[39;49m\u001b[38;5;241;43m.\u001b[39;49m\u001b[43m__pydantic_validator__\u001b[49m\u001b[38;5;241;43m.\u001b[39;49m\u001b[43mvalidate_python\u001b[49m\u001b[43m(\u001b[49m\u001b[43mdata\u001b[49m\u001b[43m,\u001b[49m\u001b[43m \u001b[49m\u001b[43mself_instance\u001b[49m\u001b[38;5;241;43m=\u001b[39;49m\u001b[38;5;28;43mself\u001b[39;49m\u001b[43m)\u001b[49m\n",
      "\u001b[0;31mValidationError\u001b[0m: 1 validation error for YelpSearchToolConfig\napi_key\n  Input should be a valid string [type=string_type, input_value=None, input_type=NoneType]\n    For further information visit https://errors.pydantic.dev/2.8/v/string_type"
     ]
    }
   ],
   "source": [
    "# Initialize the YelpSearchTool\n",
    "yelp_tool = YelpSearchTool(YelpSearchToolConfig(api_key=os.getenv('YELP_API_KEY'), max_results=10))"
   ]
  },
  {
   "cell_type": "markdown",
   "metadata": {},
   "source": [
    "## Step 7: Define a Custom Response Schema\n",
    "\n",
    "Create a custom response schema that can handle both chat responses and Yelp search tool responses."
   ]
  },
  {
   "cell_type": "code",
   "execution_count": null,
   "metadata": {},
   "outputs": [
    {
     "ename": "",
     "evalue": "",
     "output_type": "error",
     "traceback": [
      "\u001b[1;31mRunning cells with 'venv (Python 3.10.12)' requires the ipykernel package.\n",
      "\u001b[1;31mRun the following command to install 'ipykernel' into the Python environment. \n",
      "\u001b[1;31mCommand: '/home/w3bwizar/Development/AI/atomic_agents/venv/bin/python -m pip install ipykernel -U --force-reinstall'"
     ]
    }
   ],
   "source": [
    "# Define a custom response schema that can handle both chat responses and Yelp search tool responses\n",
    "class ResponseSchema(BaseModel):\n",
    "    chosen_schema: Union[BaseChatAgentOutputSchema, YelpSearchToolSchema] = Field(..., description='The response from the chat agent.')\n",
    "\n",
    "    class Config:\n",
    "        title = 'OutputSchema'\n",
    "        description = 'The response schema for the chat agent.'\n",
    "        json_schema_extra = {\n",
    "            'title': title,\n",
    "            'description': description,\n",
    "        }"
   ]
  },
  {
   "cell_type": "markdown",
   "metadata": {},
   "source": [
    "## Step 8: Create the Chat Agent\n",
    "\n",
    "Create a chat agent with the specified model, system prompt generator, and memory."
   ]
  },
  {
   "cell_type": "code",
   "execution_count": null,
   "metadata": {},
   "outputs": [
    {
     "ename": "",
     "evalue": "",
     "output_type": "error",
     "traceback": [
      "\u001b[1;31mRunning cells with 'venv (Python 3.10.12)' requires the ipykernel package.\n",
      "\u001b[1;31mRun the following command to install 'ipykernel' into the Python environment. \n",
      "\u001b[1;31mCommand: '/home/w3bwizar/Development/AI/atomic_agents/venv/bin/python -m pip install ipykernel -U --force-reinstall'"
     ]
    }
   ],
   "source": [
    "# Create a chat agent with the specified model, system prompt generator, and memory\n",
    "agent = BaseChatAgent(\n",
    "    config=BaseChatAgentConfig(\n",
    "        client=client, \n",
    "        system_prompt_generator=system_prompt_generator,\n",
    "        model='gpt-3.5-turbo',\n",
    "        memory=memory,\n",
    "        output_schema=OutputSchema\n",
    "    )\n",
    ")\n",
    "\n",
    "console.print(\"BaseChatAgent with YelpSearchTool is ready.\")\n",
    "console.print(f'Agent: {initial_memory[0][\"content\"]}')"
   ]
  },
  {
   "cell_type": "markdown",
   "metadata": {},
   "source": [
    "## Step 9: Run the Agent\n",
    "\n",
    "Start the agent to interact with the user. The agent will ask for user input, process it, and provide responses based on the gathered information.\n",
    "Try telling it you would like some pizza, it should ask for your location and other information until it feels it can properly call the Yelp API with the information it has gathered."
   ]
  },
  {
   "cell_type": "code",
   "execution_count": null,
   "metadata": {},
   "outputs": [
    {
     "ename": "",
     "evalue": "",
     "output_type": "error",
     "traceback": [
      "\u001b[1;31mRunning cells with 'venv (Python 3.10.12)' requires the ipykernel package.\n",
      "\u001b[1;31mRun the following command to install 'ipykernel' into the Python environment. \n",
      "\u001b[1;31mCommand: '/home/w3bwizar/Development/AI/atomic_agents/venv/bin/python -m pip install ipykernel -U --force-reinstall'"
     ]
    }
   ],
   "source": [
    "while True:\n",
    "    user_input = input('You: ')\n",
    "    if user_input.lower() in ['exit', 'quit']:\n",
    "        print('Exiting chat...')\n",
    "        break\n",
    "\n",
    "    response = agent.run(agent.input_schema(chat_message=user_input).model_dump())\n",
    "    \n",
    "    # Check the type of the response schema\n",
    "    if isinstance(response.chosen_schema, YelpSearchToolSchema):\n",
    "        output = yelp_tool.run(response.chosen_schema)\n",
    "        agent.memory.add_message('system', f'The following information was found: {output.results}\\n\\n Please summarize the results for the user.')\n",
    "        output = agent.run().chosen_schema.chat_message\n",
    "    else:\n",
    "        output = response.chosen_schema.chat_message\n",
    "        \n",
    "    console.print(f'Agent: {output}')"
   ]
  },
  {
   "cell_type": "markdown",
   "metadata": {},
   "source": [
    "## Conclusion\n",
    "\n",
    "In this notebook, we demonstrated how to create a restaurant finder agent using the Atomic Agents library. The agent interacts with users to gather their preferences and searches for restaurants using the Yelp API. You can further customize the agent and enhance its capabilities based on your requirements."
   ]
  }
 ],
 "metadata": {
  "kernelspec": {
   "display_name": "venv",
   "language": "python",
   "name": "python3"
  },
  "language_info": {
   "codemirror_mode": {
    "name": "ipython",
    "version": 3
   },
   "file_extension": ".py",
   "mimetype": "text/x-python",
   "name": "python",
   "nbconvert_exporter": "python",
   "pygments_lexer": "ipython3",
   "version": "3.10.12"
  }
 },
 "nbformat": 4,
 "nbformat_minor": 2
}
